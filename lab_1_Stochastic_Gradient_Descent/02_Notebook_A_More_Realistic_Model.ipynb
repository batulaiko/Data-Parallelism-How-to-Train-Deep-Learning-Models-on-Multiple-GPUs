{
 "cells": [
  {
   "cell_type": "markdown",
   "id": "b0aa8f90-a82c-4c5f-85cb-9d39fe812068",
   "metadata": {},
   "source": [
    "## Presentation"
   ]
  },
  {
   "cell_type": "markdown",
   "id": "392afb87-4365-4403-809d-c53665ed29b7",
   "metadata": {},
   "source": [
    "Please execute the cell below to view the slide presentation that the instructor will present at this time."
   ]
  },
  {
   "cell_type": "code",
   "execution_count": 1,
   "id": "8c9672eb-435a-4052-8608-b83e325f3d87",
   "metadata": {},
   "outputs": [
    {
     "data": {
      "text/html": [
       "<iframe src=\"https://view.officeapps.live.com/op/embed.aspx?src=https://developer.download.nvidia.com:443/training/courses/C-MG-01-V3/task1/2-v2.pptx\" width=\"610px\" height=\"367px\" frameborder=\"0\"></iframe>\n"
      ],
      "text/plain": [
       "<IPython.core.display.HTML object>"
      ]
     },
     "metadata": {},
     "output_type": "display_data"
    }
   ],
   "source": [
    "%%html\n",
    "<iframe src=\"https://view.officeapps.live.com/op/embed.aspx?src=https://developer.download.nvidia.com:443/training/courses/C-MG-01-V3/task1/2-v2.pptx\" width=\"610px\" height=\"367px\" frameborder=\"0\"></iframe>"
   ]
  },
  {
   "cell_type": "markdown",
   "id": "f4886a3b-deb5-4fc2-8ed1-b319af4c3532",
   "metadata": {},
   "source": [
    "# A more realistic model\n",
    "\n",
    "So far you've learned about the difference between gradient descent (i.e. a batch size equal to the full dataset) and mini-batch stochastic gradient descent (the batch size is smaller than the full dataset, usually much smaller). You've seen that smaller batch sizes add noise to the optimization process, which can help with avoiding getting trapped in local minima or slowed down at a saddle point. A smaller batch size will also mean running back-propagation and updating the gradients more times per epoch (taking more steps).\n",
    "\n",
    "In this lab you'll be experimenting with batch size on a more complex dataset and model. You will see the effect of batch size on GPU performance, as well as on the accuracy of training."
   ]
  },
  {
   "cell_type": "markdown",
   "id": "16ac43b0-220b-49be-aeeb-2e9385404312",
   "metadata": {},
   "source": [
    "## The Fashion-MNIST Dataset\n",
    "\n",
    "The [Fashion-MNIST dataset](https://github.com/zalandoresearch/fashion-mnist) is a response to the traditional MNIST dataset, which is often referred to as the \"hello world\" of machine learning. The original MNIST dataset consists of 60,000 pictures of handwritten digits, 0-9. One of the downsides of this dataset is its simplicity. Good performance of a model on the dataset does not indicate that the model will perform well on a more complicated set of images.\n",
    "\n",
    "The Fashion-MNIST dataset was created to be a moderately more complex image classification challenge. It follows the same format as the original MNIST set, with 10 categories and 60,000 images, each 28x28 pixels (plus 10,000 testing images). We'll be training on this dataset for this exercise, as well as for the next labs where we'll introduce training with multiple GPUs. \n",
    "\n",
    "<img src=\"./images/Fashion MNIST.png\"> "
   ]
  },
  {
   "cell_type": "markdown",
   "id": "d461e540-2e10-47b2-b7a2-51c7f24012b0",
   "metadata": {},
   "source": [
    "## The Wide ResNet Model\n",
    "\n",
    "We'll be using a Wide Residual Network to train on this dataset, which is a convolutional neural network proven to perform very well in image classification challenges. Feel free to take some time to learn more about [wide residual networks](https://arxiv.org/abs/1605.07146), the original [residual networks](https://arxiv.org/abs/1512.03385) they are based on, or about [convolutional neural networks](https://developer.nvidia.com/discover/convolutional-neural-network) in general.\n",
    "\n",
    "![wideresnet](./images/wideresnet.png)\n",
    "\n",
    "In the early days of CNNs, the community drove towards very deep models (many tens or hundreds of layers), but as computing power advanced and algorithms improved, in particular after the idea of the residual block was demonstrated, it became more desirable to swing back towards shallower networks with wider layers, which was the primary innovation of the WideResNet family of models. The WideResNet-16-10 we will use below can achieve with O(10 million) parameters accuracy that is competitive with much deeper networks with more parameters."
   ]
  },
  {
   "cell_type": "markdown",
   "id": "c8c761fd-ec03-471b-89cf-906d550a99ca",
   "metadata": {},
   "source": [
    "## Training our Model\n",
    "\n",
    "We'll start by running training on the existing dataset with default hyperparameters. Please take a few minutes to look through `fashion_mnist.py`, and get familiar with the training. We're using PyTorch for this training, but the takeaways of these exercises should translate to other frameworks.\n",
    "\n",
    "Notice that we're only training on 1/6 of the dataset (10,000 images) for this exercise. We're doing this to keep epoch times short so that we can run quick experiments and see the effects of batch size. When we start introducing multiple GPUs to speed up the training, we'll use the entire dataset.\n",
    "\n",
    "Once you have a good sense of the code, execute the cell below to run a few epochs. Pay attention to the validation accuracy, validation loss, and epoch time."
   ]
  },
  {
   "cell_type": "code",
   "execution_count": 2,
   "id": "137ac986-d161-4b95-aeb9-b786a1dc9213",
   "metadata": {},
   "outputs": [
    {
     "name": "stdout",
     "output_type": "stream",
     "text": [
      "Downloading http://fashion-mnist.s3-website.eu-central-1.amazonaws.com/train-images-idx3-ubyte.gz\n",
      "Downloading http://fashion-mnist.s3-website.eu-central-1.amazonaws.com/train-images-idx3-ubyte.gz to ./data/FashionMNIST/raw/train-images-idx3-ubyte.gz\n",
      "100%|█████████████████████████| 26421880/26421880 [00:02<00:00, 13202961.82it/s]\n",
      "Extracting ./data/FashionMNIST/raw/train-images-idx3-ubyte.gz to ./data/FashionMNIST/raw\n",
      "\n",
      "Downloading http://fashion-mnist.s3-website.eu-central-1.amazonaws.com/train-labels-idx1-ubyte.gz\n",
      "Downloading http://fashion-mnist.s3-website.eu-central-1.amazonaws.com/train-labels-idx1-ubyte.gz to ./data/FashionMNIST/raw/train-labels-idx1-ubyte.gz\n",
      "100%|█████████████████████████████████| 29515/29515 [00:00<00:00, 326456.41it/s]\n",
      "Extracting ./data/FashionMNIST/raw/train-labels-idx1-ubyte.gz to ./data/FashionMNIST/raw\n",
      "\n",
      "Downloading http://fashion-mnist.s3-website.eu-central-1.amazonaws.com/t10k-images-idx3-ubyte.gz\n",
      "Downloading http://fashion-mnist.s3-website.eu-central-1.amazonaws.com/t10k-images-idx3-ubyte.gz to ./data/FashionMNIST/raw/t10k-images-idx3-ubyte.gz\n",
      "100%|████████████████████████████| 4422102/4422102 [00:00<00:00, 6006062.56it/s]\n",
      "Extracting ./data/FashionMNIST/raw/t10k-images-idx3-ubyte.gz to ./data/FashionMNIST/raw\n",
      "\n",
      "Downloading http://fashion-mnist.s3-website.eu-central-1.amazonaws.com/t10k-labels-idx1-ubyte.gz\n",
      "Downloading http://fashion-mnist.s3-website.eu-central-1.amazonaws.com/t10k-labels-idx1-ubyte.gz to ./data/FashionMNIST/raw/t10k-labels-idx1-ubyte.gz\n",
      "100%|█████████████████████████████████| 5148/5148 [00:00<00:00, 50567393.42it/s]\n",
      "Extracting ./data/FashionMNIST/raw/t10k-labels-idx1-ubyte.gz to ./data/FashionMNIST/raw\n",
      "\n",
      "Epoch =  1: Epoch Time = 18.149, Validation Loss = 0.507, Validation Accuracy = 0.809\n",
      "Epoch =  2: Epoch Time = 17.441, Validation Loss = 0.432, Validation Accuracy = 0.844\n",
      "Epoch =  3: Epoch Time = 17.527, Validation Loss = 0.401, Validation Accuracy = 0.857\n",
      "Epoch =  4: Epoch Time = 17.549, Validation Loss = 0.365, Validation Accuracy = 0.870\n",
      "Epoch =  5: Epoch Time = 17.573, Validation Loss = 0.412, Validation Accuracy = 0.867\n"
     ]
    }
   ],
   "source": [
    "!python fashion_mnist.py --epochs 5"
   ]
  },
  {
   "cell_type": "markdown",
   "id": "8688db8a-d454-4e81-8f10-815b71d5c3a2",
   "metadata": {},
   "source": [
    "We are about to make some edits to this file, so let's make a copy of this file that you can refer to or back up to if you make any mistakes."
   ]
  },
  {
   "cell_type": "code",
   "execution_count": 3,
   "id": "970dc398-fd42-49f4-8665-fa95eb185c1b",
   "metadata": {},
   "outputs": [],
   "source": [
    "!cp fashion_mnist.py fashion_mnist_original.py"
   ]
  },
  {
   "cell_type": "markdown",
   "id": "3c971a19-143c-4f02-9e85-ba76d7ae8cb5",
   "metadata": {},
   "source": [
    "## Training Performance - Images/Second\n",
    "\n",
    "One way of measuring the performance of our training is how much data is being processed for a given unit of time. GPUs are highly optimized for parallel processing, and many aspects of the training process utilize this parallelism. Take a moment to think about why batch size might have an effect on the GPUs ability to parallelize, and what might happen to the performance. \n",
    "\n",
    "In this exercise, you'll implement the feature to report how many images are processed each second as the neural network trains. You'll then adjust the batch size to see empirically how performance (or throughput) is affected."
   ]
  },
  {
   "cell_type": "markdown",
   "id": "7c9d8d31-97ef-496d-ac69-d8ceb4fea394",
   "metadata": {},
   "source": [
    "### Computing Image Throughput\n",
    "\n",
    "PyTorch gives us complete control over the training loop. We'll be making use of this flexibility to compute and report images/second throughput for each epoch. Take a moment to look at `TODO Step 1` locations in `fashion_mnist.py` and implement the image throughput calculation.\n",
    "\n",
    "Once you've completed the implementation, execute the training again and pay attention to the image throughput.\n",
    "\n",
    "If you get stuck, feel free to reference [solutions/fashion_mnist_after_step_01.py](solutions/fashion_mnist_after_step_01.py)."
   ]
  },
  {
   "cell_type": "code",
   "execution_count": 31,
   "id": "f68382be-9d48-4d7d-9eef-7b6da6d59c52",
   "metadata": {},
   "outputs": [
    {
     "name": "stdout",
     "output_type": "stream",
     "text": [
      "Epoch =  1: Epoch Time = 18.417, Validation Loss = 0.532, Validation Accuracy = 0.799 Image per Second = 542.122\n",
      "Epoch =  2: Epoch Time = 17.564, Validation Loss = 0.427, Validation Accuracy = 0.847 Image per Second = 568.431\n",
      "Epoch =  3: Epoch Time = 17.568, Validation Loss = 0.404, Validation Accuracy = 0.858 Image per Second = 568.301\n"
     ]
    }
   ],
   "source": [
    "!python fashion_mnist.py --epochs 3"
   ]
  },
  {
   "cell_type": "markdown",
   "id": "2a7c811b-dda3-4e85-9f81-3223a95d12bf",
   "metadata": {},
   "source": [
    "You'll notice that the throughput increases after the first epoch. This can be attributed to one time costs such as data loading and memory allocation. For the next exercise, just focus on the throughput in the second epoch and beyond."
   ]
  },
  {
   "cell_type": "markdown",
   "id": "d711fdeb-e3d5-4d1b-aa66-f3d2e6d53afe",
   "metadata": {},
   "source": [
    "### Comparing Throughput by Batch Size\n",
    "\n",
    "In this exercise you'll be calculating training throughput as a function of batch size. Execute the next cell several times as you adjust the batch size. Enter the data in the cell below (replace each \"FIXME\" with the images/sec throughput for the corresponding batch size), and execute it to see a plot of the data."
   ]
  },
  {
   "cell_type": "code",
   "execution_count": 39,
   "id": "a9e56b20-3337-40c4-984d-d1cc35e40eca",
   "metadata": {},
   "outputs": [
    {
     "name": "stdout",
     "output_type": "stream",
     "text": [
      "Epoch =  1: Epoch Time = 32.124, Validation Loss = 0.610, Validation Accuracy = 0.759 Image per Second = 311.294\n",
      "Epoch =  2: Epoch Time = 31.342, Validation Loss = 0.499, Validation Accuracy = 0.815 Image per Second = 319.059\n",
      "Epoch =  3: Epoch Time = 31.368, Validation Loss = 0.413, Validation Accuracy = 0.854 Image per Second = 318.798\n",
      "^C\n",
      "Traceback (most recent call last):\n",
      "  File \"fashion_mnist.py\", line 189, in <module>\n",
      "    train(model, optimizer, train_loader, loss_fn, device)\n",
      "  File \"fashion_mnist.py\", line 108, in train\n",
      "    labels = labels.to(device)\n",
      "KeyboardInterrupt\n"
     ]
    }
   ],
   "source": [
    "!python fashion_mnist.py --epochs 5 --batch-size 8"
   ]
  },
  {
   "cell_type": "code",
   "execution_count": 40,
   "id": "c140eaf9-53c3-4b97-83df-164d92f54eef",
   "metadata": {},
   "outputs": [
    {
     "data": {
      "application/vnd.jupyter.widget-view+json": {
       "model_id": "d3f3f23e66e5495687d9cc01ce86ebd7",
       "version_major": 2,
       "version_minor": 0
      },
      "image/png": "[encoded data removed]",
      "text/html": [
       "\n",
       "            <div style=\"display: inline-block;\">\n",
       "                <div class=\"jupyter-widgets widget-label\" style=\"text-align: center;\">\n",
       "                    Figure\n",
       "                </div>\n",
       "                <img src='data:image/png;base64,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' width=640.0/>\n",
       "            </div>\n",
       "        "
      ],
      "text/plain": [
       "Canvas(toolbar=Toolbar(toolitems=[('Home', 'Reset original view', 'home', 'home'), ('Back', 'Back to previous …"
      ]
     },
     "metadata": {},
     "output_type": "display_data"
    }
   ],
   "source": [
    "%matplotlib widget\n",
    "import matplotlib.pyplot as plt\n",
    "\n",
    "data = [('8', 311.294),\n",
    "        ('16', 461.306),\n",
    "        ('32', 543.788),\n",
    "        ('64', 588.535),\n",
    "        ('128', 608.817),\n",
    "        ('256', 611.833),\n",
    "        ('512', 630.021),\n",
    "        ('700', 633.187)]\n",
    "\n",
    "x,y = zip(*data)\n",
    "plt.bar(x,y)\n",
    "plt.ylabel(\"Throughput (images / sec)\")\n",
    "plt.xlabel(\"Batch Size\")\n",
    "plt.show()"
   ]
  },
  {
   "cell_type": "markdown",
   "id": "543c2516-9ea7-46b9-a692-67f48e96dc94",
   "metadata": {},
   "source": [
    "If you don't want to manually find each datapoint, you can reveal the code block below and copy over the provided data. These values may vary slightly from what you may have produced with your own code, but were generated on the same compute environment as you are currently using."
   ]
  },
  {
   "cell_type": "markdown",
   "id": "fbd97bd1-174b-4dab-9e5d-a92d150b7e3d",
   "metadata": {
    "jupyter": {
     "source_hidden": true
    },
    "tags": []
   },
   "source": [
    "```python\n",
    "data = [('8', 322),\n",
    "        ('16', 485),\n",
    "        ('32', 575),\n",
    "        ('64', 628),\n",
    "        ('128', 652),\n",
    "        ('256', 657),\n",
    "        ('512', 680),\n",
    "        ('700', 683)]\n",
    "```"
   ]
  },
  {
   "cell_type": "markdown",
   "id": "971f0b44-0082-4f8a-a64e-ac6184640dcb",
   "metadata": {},
   "source": [
    "Take some time to look at the data and think about what might be going on. Once you have some hypotheses, reveal the block below."
   ]
  },
  {
   "cell_type": "markdown",
   "id": "4b8fc6df-e876-4b6b-8376-68de485ebf3f",
   "metadata": {},
   "source": [
    "It's clear that throughput is increasing with batch size. This makes sense due to the parallel processing nature of the GPU. A larger batch size means more images can be run through the model in parallel to calculate the loss before back-propagation. This takes advantage of the thousands of cores that are in the GPU. \n",
    "\n",
    "However, throughput does not increase linearly with batch size, and there are diminishing returns as the batch size increases. Eventually, you will have saturated the compute capacity of the GPU. GPUs work effectively when they can spawn tens or hundreds of thousands of threads at once, and for small batch sizes there's not enough to work use all the threads the GPU can execute. Since GPU processing performance depends on hiding latency by having lots of work to do, performance for small batches will be relatively poor, and performance for large enough batches will eventually use all the GPU cores effectively, and the throughput (number of images processed per second) will approach a ceiling."
   ]
  },
  {
   "cell_type": "markdown",
   "id": "8ac11505-1aa5-49f9-ad17-e2422a037e68",
   "metadata": {},
   "source": [
    "## Training Performance: Time to Accuracy\n",
    "\n",
    "At this point you might want to pick the highest possible batch size for training to achieve the highest throughput. However, while throughput is an important measurement of the training process, it doesn't indicate how well the model is being trained with respect to its purpose: inference. \n",
    "\n",
    "In our case, the model is only as good as its ability to correctly identify the class of clothing in a given image. Our measurement of this is reported in the validation accuracy, which reflects how effectively the model makes predictions on a separate dataset that we did not train on.\n",
    "\n",
    "Think about how batch size might affect the model's ability to be accurate. Remember that noise introduced with smaller batch sizes is a helpful tool in the training process.\n",
    "\n",
    "In this next exercise, you'll once again adjust batch size, comparing the total training time before a given accuracy is reached."
   ]
  },
  {
   "cell_type": "markdown",
   "id": "c8a10fa8-c362-4e8e-8bea-9cd41b7430c3",
   "metadata": {},
   "source": [
    "### Early Stopping\n",
    "\n",
    "To implement early stopping, we have to specify a target accuracy as well as a patience value. The patience determines how many epochs should surpass a target accuracy before the training should stop. Sometimes validation accuracy can unexpectedly spike before the network is effectively trained. Maintaining a high accuracy over more than one epoch gives us a better confidence that the network is well-trained, and can generalize effectively.\n",
    "\n",
    "Implement the early stopping feature in `fashion_mnist.py`. Look for `TODO Step 2`. Finally, run the training below with the given target accuracy and patience value. If you get stuck, you can check out `solutions/fashion_mnist_after_step_02.py`."
   ]
  },
  {
   "cell_type": "code",
   "execution_count": 47,
   "id": "8e2352da-2461-49a4-8dd3-974133fd2b8e",
   "metadata": {},
   "outputs": [
    {
     "name": "stdout",
     "output_type": "stream",
     "text": [
      "Epoch =  1: Epoch Time = 18.218, Validation Loss = 0.535, Validation Accuracy = 0.801 Image per Second = 548.032, Cumulative Time of Training = 18.218\n",
      "Epoch =  2: Epoch Time = 17.482, Validation Loss = 0.441, Validation Accuracy = 0.838 Image per Second = 571.109, Cumulative Time of Training = 35.700\n",
      "Epoch =  3: Epoch Time = 17.545, Validation Loss = 0.390, Validation Accuracy = 0.859 Image per Second = 569.049, Cumulative Time of Training = 53.245\n",
      "Early stopping after epoch 3\n"
     ]
    }
   ],
   "source": [
    "!python fashion_mnist.py --target-accuracy .82 --patience 2"
   ]
  },
  {
   "cell_type": "markdown",
   "id": "7fdab5c5-f57b-4516-b099-6a87cb65bff8",
   "metadata": {},
   "source": [
    "### Report Total Training Time\n",
    "\n",
    "Now that you've got the training to stop after it reaches a certain accuracy, the next step is to report the total training time so that you can compare runs against each other. Look for `TODO Step 3` in `fashion_mnist.py`. If you get stuck, you can check out `solutions/fashion_mnist_after_step_03.py`.\n",
    "\n",
    "Once you're done, run the file again to test out the functionality. For this exercise it's OK to use a lower target accuracy or to use a lower patience threshold, since we're just making sure we got the code right."
   ]
  },
  {
   "cell_type": "code",
   "execution_count": 48,
   "id": "e1e3d5ed-b684-477d-8c3e-096e182cde98",
   "metadata": {},
   "outputs": [
    {
     "name": "stdout",
     "output_type": "stream",
     "text": [
      "Epoch =  1: Epoch Time = 18.445, Validation Loss = 0.521, Validation Accuracy = 0.797 Image per Second = 541.274, Cumulative Time of Training = 18.445\n",
      "Epoch =  2: Epoch Time = 17.566, Validation Loss = 0.428, Validation Accuracy = 0.842 Image per Second = 568.380, Cumulative Time of Training = 36.011\n",
      "Early stopping after epoch 2\n"
     ]
    }
   ],
   "source": [
    "!python fashion_mnist.py --target-accuracy .7 --patience 2"
   ]
  },
  {
   "cell_type": "markdown",
   "id": "93792f99-35a5-4a42-ad12-6b87f3250c08",
   "metadata": {},
   "source": [
    "### Comparing Accuracy with Batch Size\n",
    "\n",
    "You now have a system to compare the effectiveness of batch size in terms of time to a certain accuracy (we suggest between .82 and .85). Try out several batch sizes to see the effects on the validation accuracy.  Notice what happens when your batch size is especially low or high. Consider repeating training with the same batch size one or multiple times to evaluate the consistency of the results. "
   ]
  },
  {
   "cell_type": "code",
   "execution_count": 49,
   "id": "edef42cc-4168-4368-a1c0-885aac71c4c7",
   "metadata": {},
   "outputs": [
    {
     "name": "stdout",
     "output_type": "stream",
     "text": [
      "Epoch =  1: Epoch Time = 18.478, Validation Loss = 0.521, Validation Accuracy = 0.803 Image per Second = 540.315, Cumulative Time of Training = 18.478\n",
      "Epoch =  2: Epoch Time = 17.575, Validation Loss = 0.456, Validation Accuracy = 0.832 Image per Second = 568.067, Cumulative Time of Training = 36.054\n",
      "Epoch =  3: Epoch Time = 17.594, Validation Loss = 0.393, Validation Accuracy = 0.857 Image per Second = 567.460, Cumulative Time of Training = 53.648\n",
      "Epoch =  4: Epoch Time = 17.603, Validation Loss = 0.355, Validation Accuracy = 0.872 Image per Second = 567.163, Cumulative Time of Training = 71.251\n",
      "Early stopping after epoch 4\n"
     ]
    }
   ],
   "source": [
    "!python fashion_mnist.py --batch-size 32 --target-accuracy .85 --patience 2"
   ]
  },
  {
   "cell_type": "markdown",
   "id": "8332ce02-d8e4-4329-9cf4-f0cd37a49077",
   "metadata": {},
   "source": [
    "Record and consider your results before revealing the next section."
   ]
  },
  {
   "cell_type": "markdown",
   "id": "43a66dbe-e860-464f-9966-e6ce0a7eac99",
   "metadata": {},
   "source": [
    "The results you obtained probably pointed you in a couple of general directions. In particular, very small or large batch sizes may not be optimal for convergence (very small batches tend to be far too noisy to converge adequately to the minimum of the loss function, while very large batches tend to diverge in the early part of the training). However, you also probably saw that there's a lot of randomness in the results, and it is hard to generalize very well. That's OK, and it's actually a good thing, because not everything you learn today will apply the same way to every model and dataset. The goal of this course is to build intuition about how to think about the process of neural network optimization, not to learn a set of rules to apply blindly in production."
   ]
  },
  {
   "cell_type": "markdown",
   "id": "a9d93c9a-718d-4121-ac02-c83a2352d5f5",
   "metadata": {
    "tags": []
   },
   "source": [
    "## Conclusion\n",
    "\n",
    "In this part of the class we have learned:\n",
    "\n",
    "- How to train a more sophisticated and realistic neural network model than the one we used before\n",
    "- How to implement several custom features in PyTorch and measure training performance in terms of both accuracy and throughput\n",
    "- How batch size affects training accuracy for a more realistic model\n",
    "\n",
    "This concludes Lab 1. In Lab 2, we will learn how to extend this training process to multiple GPUs."
   ]
  },
  {
   "cell_type": "markdown",
   "id": "0d9d728a-08ed-4ec1-b2b9-8180354e5f76",
   "metadata": {},
   "source": [
    "### Presentation"
   ]
  },
  {
   "cell_type": "markdown",
   "id": "3f132270-e260-4b11-af1e-7b5ee96a633d",
   "metadata": {},
   "source": [
    "Before concluding this section please execute the cell below to view the slide presentation that the instructor present at this time."
   ]
  },
  {
   "cell_type": "code",
   "execution_count": 16,
   "id": "a0bcee0c-dc5b-4e2d-a883-5967df0c2977",
   "metadata": {},
   "outputs": [
    {
     "data": {
      "text/html": [
       "<iframe src=\"https://view.officeapps.live.com/op/embed.aspx?src=https://developer.download.nvidia.com:443/training/courses/C-MG-01-V3/task1/3-v2.pptx\" width=\"610px\" height=\"367px\" frameborder=\"0\"></iframe>\n"
      ],
      "text/plain": [
       "<IPython.core.display.HTML object>"
      ]
     },
     "metadata": {},
     "output_type": "display_data"
    }
   ],
   "source": [
    "%%html\n",
    "<iframe src=\"https://view.officeapps.live.com/op/embed.aspx?src=https://developer.download.nvidia.com:443/training/courses/C-MG-01-V3/task1/3-v2.pptx\" width=\"610px\" height=\"367px\" frameborder=\"0\"></iframe>"
   ]
  },
  {
   "cell_type": "code",
   "execution_count": 54,
   "id": "828e5c67-d1dd-419f-9c70-781bb688cdc5",
   "metadata": {},
   "outputs": [
    {
     "name": "stdout",
     "output_type": "stream",
     "text": [
      "tar: Cowardly refusing to create an empty archive\n",
      "Try 'tar --help' or 'tar --usage' for more information.\n"
     ]
    }
   ],
   "source": [
    "!tar -cvf lab_1.tar"
   ]
  },
  {
   "cell_type": "code",
   "execution_count": null,
   "id": "d415c3b5-7807-458c-8920-ff92c6db1807",
   "metadata": {},
   "outputs": [],
   "source": []
  }
 ],
 "metadata": {
  "jupytext": {
   "formats": "ipynb"
  },
  "kernelspec": {
   "display_name": "Python 3 (ipykernel)",
   "language": "python",
   "name": "python3"
  },
  "language_info": {
   "codemirror_mode": {
    "name": "ipython",
    "version": 3
   },
   "file_extension": ".py",
   "mimetype": "text/x-python",
   "name": "python",
   "nbconvert_exporter": "python",
   "pygments_lexer": "ipython3",
   "version": "3.8.13"
  }
 },
 "nbformat": 4,
 "nbformat_minor": 5
}
